{
 "cells": [
  {
   "cell_type": "code",
   "execution_count": 15,
   "metadata": {},
   "outputs": [],
   "source": [
    "import numpy as np"
   ]
  },
  {
   "cell_type": "code",
   "execution_count": 67,
   "metadata": {},
   "outputs": [],
   "source": [
    "# compute the sum of all values in an array.\n",
    "# Python itself can do this using the built-in sum function:\n",
    "L = np.random.random(100)"
   ]
  },
  {
   "cell_type": "code",
   "execution_count": 68,
   "metadata": {},
   "outputs": [
    {
     "name": "stdout",
     "output_type": "stream",
     "text": [
      "[0.27530623 0.93419132 0.00967485 0.73957646 0.65825561 0.31154399\n",
      " 0.20145667 0.21735382 0.05313278 0.07598196 0.19646037 0.8642322\n",
      " 0.31074411 0.69833655 0.11407393 0.50541383 0.44370498 0.38853847\n",
      " 0.71552131 0.92569688 0.85209313 0.03979622 0.84558386 0.71036914\n",
      " 0.30476356 0.21469848 0.1537854  0.0212927  0.07463463 0.3548168\n",
      " 0.77790823 0.97103905 0.76483483 0.3565378  0.52045092 0.41539151\n",
      " 0.49332389 0.19299891 0.79709352 0.27139213 0.95737026 0.78803919\n",
      " 0.52934468 0.49107403 0.76579133 0.95142887 0.74317614 0.75348327\n",
      " 0.38717972 0.76972202 0.38398113 0.28695662 0.88878796 0.42772969\n",
      " 0.1145648  0.05560914 0.75815379 0.42304488 0.60443762 0.09031295\n",
      " 0.87958219 0.82633286 0.99245431 0.88951754 0.95594579 0.02729749\n",
      " 0.15644701 0.3956663  0.45264113 0.46769307 0.29329823 0.67380195\n",
      " 0.45651853 0.78267262 0.0600308  0.13880313 0.87740887 0.03301682\n",
      " 0.23173038 0.02692653 0.03316258 0.48459354 0.8610313  0.79359914\n",
      " 0.8150653  0.17928989 0.99188916 0.13530718 0.66718679 0.10075296\n",
      " 0.85035108 0.69826122 0.44403281 0.5601026  0.26732714 0.6359126\n",
      " 0.39362139 0.38604032 0.92435503 0.3427281 ]\n"
     ]
    }
   ],
   "source": [
    "print(L)"
   ]
  },
  {
   "cell_type": "code",
   "execution_count": 6,
   "metadata": {},
   "outputs": [
    {
     "data": {
      "text/plain": [
       "52.70803517357084"
      ]
     },
     "execution_count": 6,
     "metadata": {},
     "output_type": "execute_result"
    }
   ],
   "source": [
    "sum(L)"
   ]
  },
  {
   "cell_type": "code",
   "execution_count": 7,
   "metadata": {},
   "outputs": [
    {
     "data": {
      "text/plain": [
       "52.708035173570856"
      ]
     },
     "execution_count": 7,
     "metadata": {},
     "output_type": "execute_result"
    }
   ],
   "source": [
    "# NumPy's sum function,\n",
    "# and the result is the same in the simplest case:\n",
    "np.sum(L)"
   ]
  },
  {
   "cell_type": "code",
   "execution_count": 8,
   "metadata": {},
   "outputs": [
    {
     "data": {
      "text/plain": [
       "52.708035173570856"
      ]
     },
     "execution_count": 8,
     "metadata": {},
     "output_type": "execute_result"
    }
   ],
   "source": [
    "np.nansum(L)"
   ]
  },
  {
   "cell_type": "code",
   "execution_count": 25,
   "metadata": {},
   "outputs": [
    {
     "name": "stdout",
     "output_type": "stream",
     "text": [
      "72.7 ms ± 471 µs per loop (mean ± std. dev. of 7 runs, 10 loops each)\n",
      "338 µs ± 7.03 µs per loop (mean ± std. dev. of 7 runs, 1000 loops each)\n"
     ]
    }
   ],
   "source": [
    "# numpy.sum is computed much more quickly:\n",
    "# timeit — Measure execution time of small code snippets\n",
    "big_array = np.random.rand(1000000)\n",
    "%timeit sum(big_array)\n",
    "%timeit np.sum(big_array)"
   ]
  },
  {
   "cell_type": "code",
   "execution_count": 26,
   "metadata": {},
   "outputs": [
    {
     "data": {
      "text/plain": [
       "(2.1018597773370118e-07, 0.999998806783221)"
      ]
     },
     "execution_count": 26,
     "metadata": {},
     "output_type": "execute_result"
    }
   ],
   "source": [
    "min(big_array), max(big_array)"
   ]
  },
  {
   "cell_type": "code",
   "execution_count": 27,
   "metadata": {},
   "outputs": [
    {
     "data": {
      "text/plain": [
       "(2.1018597773370118e-07, 0.999998806783221)"
      ]
     },
     "execution_count": 27,
     "metadata": {},
     "output_type": "execute_result"
    }
   ],
   "source": [
    "np.min(big_array), np.max(big_array)"
   ]
  },
  {
   "cell_type": "code",
   "execution_count": 28,
   "metadata": {},
   "outputs": [
    {
     "name": "stdout",
     "output_type": "stream",
     "text": [
      "52.8 ms ± 774 µs per loop (mean ± std. dev. of 7 runs, 10 loops each)\n",
      "357 µs ± 12.7 µs per loop (mean ± std. dev. of 7 runs, 1000 loops each)\n"
     ]
    }
   ],
   "source": [
    "# numpy operations are computed much more quickly:\n",
    "%timeit min(big_array)\n",
    "%timeit np.min(big_array)"
   ]
  },
  {
   "cell_type": "code",
   "execution_count": 29,
   "metadata": {},
   "outputs": [
    {
     "name": "stdout",
     "output_type": "stream",
     "text": [
      "2.1018597773370118e-07 0.999998806783221 500216.5148430375\n"
     ]
    }
   ],
   "source": [
    "print(big_array.min(), big_array.max(), big_array.sum())"
   ]
  },
  {
   "cell_type": "code",
   "execution_count": 31,
   "metadata": {},
   "outputs": [
    {
     "name": "stdout",
     "output_type": "stream",
     "text": [
      "[[0.27596206 0.00565628 0.04833772 0.78690817]\n",
      " [0.20225373 0.95706566 0.43555714 0.45871228]\n",
      " [0.6280037  0.49278812 0.42830931 0.38771562]]\n"
     ]
    }
   ],
   "source": [
    "# multi-dimention\n",
    "M = np.random.random((3, 4))\n",
    "print(M)"
   ]
  },
  {
   "cell_type": "code",
   "execution_count": 32,
   "metadata": {},
   "outputs": [
    {
     "data": {
      "text/plain": [
       "5.107269796153194"
      ]
     },
     "execution_count": 32,
     "metadata": {},
     "output_type": "execute_result"
    }
   ],
   "source": [
    "# By default, each NumPy aggregation function will \n",
    "#   return the aggregate over the entire array:\n",
    "M.sum()"
   ]
  },
  {
   "cell_type": "code",
   "execution_count": 37,
   "metadata": {},
   "outputs": [
    {
     "data": {
      "text/plain": [
       "array([0.20225373, 0.00565628, 0.04833772, 0.38771562])"
      ]
     },
     "execution_count": 37,
     "metadata": {},
     "output_type": "execute_result"
    }
   ],
   "source": [
    "# find the minimum value within each column\n",
    "#    by specifying axis=0\n",
    "M.min(axis=0)"
   ]
  },
  {
   "cell_type": "code",
   "execution_count": 38,
   "metadata": {},
   "outputs": [
    {
     "data": {
      "text/plain": [
       "array([0.78690817, 0.95706566, 0.6280037 ])"
      ]
     },
     "execution_count": 38,
     "metadata": {},
     "output_type": "execute_result"
    }
   ],
   "source": [
    "#  find the maximum value within each row\n",
    "#  by specifying axis=1\n",
    "M.max(axis=1)"
   ]
  },
  {
   "cell_type": "code",
   "execution_count": 39,
   "metadata": {},
   "outputs": [],
   "source": [
    "# Example 1: analysize the heights of all US presidents:"
   ]
  },
  {
   "cell_type": "code",
   "execution_count": 40,
   "metadata": {},
   "outputs": [],
   "source": [
    "import pandas as pd\n",
    "data = pd.read_csv('L03_heights.csv')"
   ]
  },
  {
   "cell_type": "code",
   "execution_count": 42,
   "metadata": {},
   "outputs": [
    {
     "name": "stdout",
     "output_type": "stream",
     "text": [
      "    order                    name  height(cm)\n",
      "0       1       George Washington         189\n",
      "1       2              John Adams         170\n",
      "2       3        Thomas Jefferson         189\n",
      "3       4           James Madison         163\n",
      "4       5            James Monroe         183\n",
      "5       6       John Quincy Adams         171\n",
      "6       7          Andrew Jackson         185\n",
      "7       8        Martin Van Buren         168\n",
      "8       9  William Henry Harrison         173\n",
      "9      10              John Tyler         183\n",
      "10     11           James K. Polk         173\n",
      "11     12          Zachary Taylor         173\n",
      "12     13        Millard Fillmore         175\n",
      "13     14         Franklin Pierce         178\n",
      "14     15          James Buchanan         183\n",
      "15     16         Abraham Lincoln         193\n",
      "16     17          Andrew Johnson         178\n",
      "17     18        Ulysses S. Grant         173\n",
      "18     19     Rutherford B. Hayes         174\n",
      "19     20       James A. Garfield         183\n",
      "20     21       Chester A. Arthur         183\n",
      "21     23       Benjamin Harrison         168\n",
      "22     25        William McKinley         170\n",
      "23     26      Theodore Roosevelt         178\n",
      "24     27     William Howard Taft         182\n",
      "25     28          Woodrow Wilson         180\n",
      "26     29       Warren G. Harding         183\n",
      "27     30         Calvin Coolidge         178\n",
      "28     31          Herbert Hoover         182\n",
      "29     32   Franklin D. Roosevelt         188\n",
      "30     33         Harry S. Truman         175\n",
      "31     34    Dwight D. Eisenhower         179\n",
      "32     35         John F. Kennedy         183\n",
      "33     36       Lyndon B. Johnson         193\n",
      "34     37           Richard Nixon         182\n",
      "35     38             Gerald Ford         183\n",
      "36     39            Jimmy Carter         177\n",
      "37     40           Ronald Reagan         185\n",
      "38     41       George H. W. Bush         188\n",
      "39     42            Bill Clinton         188\n",
      "40     43          George W. Bush         182\n",
      "41     44            Barack Obama         185\n"
     ]
    }
   ],
   "source": [
    "print(data)"
   ]
  },
  {
   "cell_type": "code",
   "execution_count": 46,
   "metadata": {},
   "outputs": [
    {
     "name": "stdout",
     "output_type": "stream",
     "text": [
      "[189 170 189 163 183 171 185 168 173 183 173 173 175 178 183 193 178 173\n",
      " 174 183 183 168 170 178 182 180 183 178 182 188 175 179 183 193 182 183\n",
      " 177 185 188 188 182 185]\n"
     ]
    }
   ],
   "source": [
    "heights = np.array(data['height(cm)'])\n",
    "print(heights)"
   ]
  },
  {
   "cell_type": "code",
   "execution_count": 47,
   "metadata": {},
   "outputs": [
    {
     "ename": "SyntaxError",
     "evalue": "invalid syntax (<ipython-input-47-c549c3b05303>, line 5)",
     "output_type": "error",
     "traceback": [
      "\u001b[0;36m  File \u001b[0;32m\"<ipython-input-47-c549c3b05303>\"\u001b[0;36m, line \u001b[0;32m5\u001b[0m\n\u001b[0;31m    print(\"Mean height:       \", your code)\u001b[0m\n\u001b[0m                                         ^\u001b[0m\n\u001b[0;31mSyntaxError\u001b[0m\u001b[0;31m:\u001b[0m invalid syntax\n"
     ]
    }
   ],
   "source": [
    "# Now that we have this data array, \n",
    "# we can compute a variety of summary statistics:\n",
    "# using numpy functions to complete \n",
    "# the following according to requirements:\n",
    "print(\"Mean height:       \", your code)\n",
    "print(\"Standard deviation:\", your code)\n",
    "print(\"Minimum height:    \", your code)\n",
    "print(\"Maximum height:    \", your code)\n"
   ]
  },
  {
   "cell_type": "code",
   "execution_count": 49,
   "metadata": {},
   "outputs": [
    {
     "name": "stdout",
     "output_type": "stream",
     "text": [
      "Mean height:        179.73809523809524\n",
      "Standard deviation: 6.931843442745892\n",
      "Minimum height:     163\n",
      "Maximum height:     193\n",
      "Median height:      182.0\n"
     ]
    }
   ],
   "source": [
    "print(\"Mean height:       \", np.mean(heights))\n",
    "print(\"Standard deviation:\", np.std(heights))\n",
    "print(\"Minimum height:    \", np.min(heights))\n",
    "print(\"Maximum height:    \", np.max(heights))\n",
    "print(\"Median height:     \", np.median(heights))"
   ]
  },
  {
   "cell_type": "code",
   "execution_count": 54,
   "metadata": {},
   "outputs": [
    {
     "data": {
      "image/png": "[encoded data removed]",
      "text/plain": [
       "<Figure size 432x288 with 1 Axes>"
      ]
     },
     "metadata": {
      "needs_background": "light"
     },
     "output_type": "display_data"
    }
   ],
   "source": [
    "# to see a visual representation of this data:\n",
    "import matplotlib.pyplot as plt\n",
    "plt.hist(heights)\n",
    "plt.title('Height Distribution of US Presidents')\n",
    "plt.xlabel('height (cm)')\n",
    "plt.ylabel('number');"
   ]
  },
  {
   "cell_type": "code",
   "execution_count": 64,
   "metadata": {},
   "outputs": [],
   "source": [
    "# If the data file in different location (in windows),\n",
    "# the following line to give your path of data file:\n",
    "path='/Users/lx/Desktop/INFO6105_Python for Machine Learning and Data Analysis/课件/Lecture3/L03_heights.csv'"
   ]
  },
  {
   "cell_type": "code",
   "execution_count": 65,
   "metadata": {},
   "outputs": [],
   "source": [
    "train=pd.read_csv(path)"
   ]
  },
  {
   "cell_type": "code",
   "execution_count": 66,
   "metadata": {},
   "outputs": [
    {
     "name": "stdout",
     "output_type": "stream",
     "text": [
      "    order                    name  height(cm)\n",
      "0       1       George Washington         189\n",
      "1       2              John Adams         170\n",
      "2       3        Thomas Jefferson         189\n",
      "3       4           James Madison         163\n",
      "4       5            James Monroe         183\n",
      "5       6       John Quincy Adams         171\n",
      "6       7          Andrew Jackson         185\n",
      "7       8        Martin Van Buren         168\n",
      "8       9  William Henry Harrison         173\n",
      "9      10              John Tyler         183\n",
      "10     11           James K. Polk         173\n",
      "11     12          Zachary Taylor         173\n",
      "12     13        Millard Fillmore         175\n",
      "13     14         Franklin Pierce         178\n",
      "14     15          James Buchanan         183\n",
      "15     16         Abraham Lincoln         193\n",
      "16     17          Andrew Johnson         178\n",
      "17     18        Ulysses S. Grant         173\n",
      "18     19     Rutherford B. Hayes         174\n",
      "19     20       James A. Garfield         183\n",
      "20     21       Chester A. Arthur         183\n",
      "21     23       Benjamin Harrison         168\n",
      "22     25        William McKinley         170\n",
      "23     26      Theodore Roosevelt         178\n",
      "24     27     William Howard Taft         182\n",
      "25     28          Woodrow Wilson         180\n",
      "26     29       Warren G. Harding         183\n",
      "27     30         Calvin Coolidge         178\n",
      "28     31          Herbert Hoover         182\n",
      "29     32   Franklin D. Roosevelt         188\n",
      "30     33         Harry S. Truman         175\n",
      "31     34    Dwight D. Eisenhower         179\n",
      "32     35         John F. Kennedy         183\n",
      "33     36       Lyndon B. Johnson         193\n",
      "34     37           Richard Nixon         182\n",
      "35     38             Gerald Ford         183\n",
      "36     39            Jimmy Carter         177\n",
      "37     40           Ronald Reagan         185\n",
      "38     41       George H. W. Bush         188\n",
      "39     42            Bill Clinton         188\n",
      "40     43          George W. Bush         182\n",
      "41     44            Barack Obama         185\n"
     ]
    }
   ],
   "source": [
    "print(train)"
   ]
  },
  {
   "cell_type": "code",
   "execution_count": null,
   "metadata": {},
   "outputs": [],
   "source": [
    "# Linux or Mac:\n",
    "# path='/Users/apple/Downloads/train.csv'\n",
    "# train=pd.read_csv(path)\n",
    "# print(train)"
   ]
  }
 ],
 "metadata": {
  "kernelspec": {
   "display_name": "Python 3",
   "language": "python",
   "name": "python3"
  },
  "language_info": {
   "codemirror_mode": {
    "name": "ipython",
    "version": 3
   },
   "file_extension": ".py",
   "mimetype": "text/x-python",
   "name": "python",
   "nbconvert_exporter": "python",
   "pygments_lexer": "ipython3",
   "version": "3.7.1"
  }
 },
 "nbformat": 4,
 "nbformat_minor": 2
}
