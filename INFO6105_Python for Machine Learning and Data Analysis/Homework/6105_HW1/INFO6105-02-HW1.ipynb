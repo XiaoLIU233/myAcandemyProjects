{
 "cells": [
  {
   "cell_type": "code",
   "execution_count": null,
   "metadata": {},
   "outputs": [],
   "source": [
    "# 2019/2/10 Homework: submitted by the end of 2019/2/19 on Blackboard."
   ]
  },
  {
   "cell_type": "code",
   "execution_count": null,
   "metadata": {},
   "outputs": [],
   "source": [
    "# Numpy Homework: 10 questions, 3 points per question, total 30 points."
   ]
  },
  {
   "cell_type": "code",
   "execution_count": 7,
   "metadata": {},
   "outputs": [
    {
     "name": "stdout",
     "output_type": "stream",
     "text": [
      "[0 0 0 0 0 0 0 0 0 0]\n",
      "[1 1 1 1 1 1 1 1 1 1]\n",
      "[5 5 5 5 5 5 5 5 5 5]\n"
     ]
    }
   ],
   "source": [
    "# 1. create an array of 10 zeros, 10 ones, 10 fives.\n",
    "\n",
    "import numpy as np\n",
    "array0 = np.zeros(10)\n",
    "array1 = np.ones(10)\n",
    "array2 = np.array([5,5,5,5,5,5,5,5,5,5])\n",
    "print(array0.astype(int))\n",
    "print(array1.astype(int))\n",
    "print(array2.astype(int))"
   ]
  },
  {
   "cell_type": "code",
   "execution_count": 2,
   "metadata": {},
   "outputs": [
    {
     "data": {
      "text/plain": [
       "array([[[0.02996394, 0.7000638 , 0.06768135],\n",
       "        [0.524536  , 0.05683661, 0.05092691],\n",
       "        [0.72785066, 0.30495989, 0.43457616]],\n",
       "\n",
       "       [[0.79046528, 0.41424974, 0.85989503],\n",
       "        [0.88361547, 0.46044107, 0.23764395],\n",
       "        [0.71986015, 0.98116711, 0.5332504 ]],\n",
       "\n",
       "       [[0.89072062, 0.69588874, 0.27435695],\n",
       "        [0.8736    , 0.95822375, 0.15184841],\n",
       "        [0.23027636, 0.38840293, 0.80258462]]])"
      ]
     },
     "execution_count": 2,
     "metadata": {},
     "output_type": "execute_result"
    }
   ],
   "source": [
    "# 2. create a 3x3x3 array filled with arbitrary values.\n",
    "\n",
    "array4 = np.random.random((3,3,3))\n",
    "array4"
   ]
  },
  {
   "cell_type": "code",
   "execution_count": 3,
   "metadata": {},
   "outputs": [
    {
     "name": "stdout",
     "output_type": "stream",
     "text": [
      "[  1   7  13 105]\n",
      "nbytes: 32 bytes\n"
     ]
    }
   ],
   "source": [
    "# 3. create an array with the values 1, 7, 13, 105 and \n",
    "# determine the size of the memory occupied by the array.\n",
    "\n",
    "array5 = np.array([1,7,13,105])\n",
    "print(array5)\n",
    "print(\"nbytes:\",array5.nbytes,\"bytes\")"
   ]
  },
  {
   "cell_type": "code",
   "execution_count": 4,
   "metadata": {},
   "outputs": [
    {
     "data": {
      "text/plain": [
       "array([[10, 11, 12, 13],\n",
       "       [14, 15, 16, 17],\n",
       "       [18, 19, 20, 21]])"
      ]
     },
     "execution_count": 4,
     "metadata": {},
     "output_type": "execute_result"
    }
   ],
   "source": [
    "# 4. create a 3x4 matrix filled with values from 10 to 21.\n",
    "\n",
    "array6 = np.arange(10,22).reshape((3,4))\n",
    "array6"
   ]
  },
  {
   "cell_type": "code",
   "execution_count": 5,
   "metadata": {},
   "outputs": [
    {
     "data": {
      "text/plain": [
       "array([[0, 1, 0, 1],\n",
       "       [1, 0, 1, 0],\n",
       "       [0, 1, 0, 1],\n",
       "       [1, 0, 1, 0]])"
      ]
     },
     "execution_count": 5,
     "metadata": {},
     "output_type": "execute_result"
    }
   ],
   "source": [
    "# 5. create an 4x4 matrix in which 0 and 1 are staggered, with zeros on the main diagonal.\n",
    "\n",
    "array7 = np.zeros((4,4))\n",
    "array7[::2, 1::2] = 1\n",
    "array7[1::2,::2] = 1\n",
    "array7.astype(int)"
   ]
  },
  {
   "cell_type": "code",
   "execution_count": 6,
   "metadata": {},
   "outputs": [
    {
     "data": {
      "text/plain": [
       "[22, 21, 20, 19, 18, 17, 16, 15, 14, 13, 12]"
      ]
     },
     "execution_count": 6,
     "metadata": {},
     "output_type": "execute_result"
    }
   ],
   "source": [
    "# 6. reverse an array (first element becomes last)\n",
    "# Original array: [12 13 14 15 16 17 18 19 20 21 22]\n",
    "\n",
    "array8 = [12,13,14,15,16,17,18,19,20,21,22]\n",
    "array8[::-1]"
   ]
  },
  {
   "cell_type": "code",
   "execution_count": 7,
   "metadata": {},
   "outputs": [
    {
     "name": "stdout",
     "output_type": "stream",
     "text": [
      "[1 2 3 4 5 6 7 8]\n",
      "[[8 4 6]\n",
      " [1 2 3]]\n"
     ]
    }
   ],
   "source": [
    "# 7. convert a list and tuple into arrays.\n",
    "List: [1, 2, 3, 4, 5, 6, 7, 8]\n",
    "Tuple: ([8, 4, 6], [1, 2, 3])\n",
    "# Hint: see docstring: np.asarray?\n",
    "\n",
    "List = [1, 2, 3, 4, 5, 6, 7, 8]\n",
    "Tuple = ([8,4,6],[1,2,3])\n",
    "print(np.asarray(List))\n",
    "print(np.asarray(Tuple))"
   ]
  },
  {
   "cell_type": "code",
   "execution_count": null,
   "metadata": {},
   "outputs": [],
   "source": [
    "# Desired Output\n",
    "List to array:\n",
    "[1 2 3 4 5 6 7 8] \n",
    "Tuple to array:\n",
    "[[8 4 6] \n",
    "[1 2 3]]"
   ]
  },
  {
   "cell_type": "code",
   "execution_count": 8,
   "metadata": {},
   "outputs": [
    {
     "name": "stdout",
     "output_type": "stream",
     "text": [
      "Original array:\n",
      "[10 20 30]\n",
      "After append values to the end of the array:\n",
      "[10 20 30 40 50 60 70 80 90]\n"
     ]
    }
   ],
   "source": [
    "# 8. append values to the end of an array\n",
    "\n",
    "array9 = np.array([10,20,30])\n",
    "array10 = np.array([40,50,60,70,80,90])\n",
    "print(\"Original array:\")\n",
    "print(array9)\n",
    "print(\"After append values to the end of the array:\")\n",
    "print(np.concatenate((array9,array10)))"
   ]
  },
  {
   "cell_type": "code",
   "execution_count": null,
   "metadata": {},
   "outputs": [],
   "source": [
    "# Desired Output\n",
    "Original array:\n",
    "[10, 20, 30]\n",
    "After append values to the end of the array:\n",
    "[10 20 30 40 50 60 70 80 90]"
   ]
  },
  {
   "cell_type": "code",
   "execution_count": 9,
   "metadata": {},
   "outputs": [
    {
     "name": "stdout",
     "output_type": "stream",
     "text": [
      "Average of the array elements: 49.397\n",
      "Standard deviation of the array elements: 29.121493625842753\n",
      "Variance of the array elements: 848.0613910000001\n"
     ]
    }
   ],
   "source": [
    "# 9. create a random array with 1000 elements and compute the average, \n",
    "#    variance, standard deviation of the array elements.\n",
    "\n",
    "np.random.seed(0)  \n",
    "array11 = np.random.randint(100, size=1000)\n",
    "print(\"Average of the array elements:\",np.mean(array11))\n",
    "print(\"Standard deviation of the array elements:\",np.std(array11))\n",
    "print(\"Variance of the array elements:\", np.var(array11))"
   ]
  },
  {
   "cell_type": "code",
   "execution_count": null,
   "metadata": {},
   "outputs": [],
   "source": [
    "# Desired Output (random number, different results but the format is below)\n",
    "Average of the array elements:\n",
    "xxxxxxxxx\n",
    "Standard deviation of the array elements:\n",
    "xxxxxxxxx\n",
    "Variance of the array elements:\n",
    "xxxxxxxxx"
   ]
  },
  {
   "cell_type": "code",
   "execution_count": 10,
   "metadata": {},
   "outputs": [
    {
     "name": "stdout",
     "output_type": "stream",
     "text": [
      "sine: array of angles given in degrees:\n",
      "[0.         0.5        0.70710678 0.8660254  1.        ]\n",
      "cosine: array of angles given in degrees:\n",
      "[1.00000000e+00 8.66025404e-01 7.07106781e-01 5.00000000e-01\n",
      " 6.12323400e-17]\n",
      "tangent: array of angles given in degrees\n",
      "[0.00000000e+00 5.77350269e-01 1.00000000e+00 1.73205081e+00\n",
      " 1.63312394e+16]\n"
     ]
    }
   ],
   "source": [
    "# 10. compute the trigonometric sine, cosine and tangent array of angles given in degrees.\n",
    "# Sample degree: 0, 30, 45, 60, 90\n",
    "\n",
    "array12 = np.array([0, 30, 45, 60, 90]) * np.pi / 180.\n",
    "print(\"sine: array of angles given in degrees:\")\n",
    "print(np.sin(array12))\n",
    "print(\"cosine: array of angles given in degrees:\")\n",
    "print(np.cos(array12))\n",
    "print(\"tangent: array of angles given in degrees\")\n",
    "print(np.tan(array12))"
   ]
  },
  {
   "cell_type": "code",
   "execution_count": null,
   "metadata": {},
   "outputs": [],
   "source": [
    "# Desired Output\n",
    "sine: array of angles given in degrees\n",
    "[0.         0.5        0.70710678 0.8660254  1.        ]\n",
    "cosine: array of angles given in degrees\n",
    "[1.00000000e+00 8.66025404e-01 7.07106781e-01 5.00000000e-01\n",
    " 6.12323400e-17]\n",
    "tangent: array of angles given in degrees\n",
    "[0.00000000e+00 5.77350269e-01 1.00000000e+00 1.73205081e+00\n",
    " 1.63312394e+16]"
   ]
  },
  {
   "cell_type": "code",
   "execution_count": null,
   "metadata": {},
   "outputs": [],
   "source": []
  },
  {
   "cell_type": "code",
   "execution_count": null,
   "metadata": {},
   "outputs": [],
   "source": [
    "# Pandas Homework: 8 questions, total 50 points."
   ]
  },
  {
   "cell_type": "code",
   "execution_count": 280,
   "metadata": {},
   "outputs": [],
   "source": [
    "# 1. [5 points]: create the mean and standard deviation of the data of a given Series.\n",
    "s = pd.Series(data = [1,2,3,4,5,6,7,8,9,5,3])"
   ]
  },
  {
   "cell_type": "code",
   "execution_count": 2,
   "metadata": {},
   "outputs": [
    {
     "name": "stdout",
     "output_type": "stream",
     "text": [
      "Original Data Series:\n",
      "0     1\n",
      "1     2\n",
      "2     3\n",
      "3     4\n",
      "4     5\n",
      "5     6\n",
      "6     7\n",
      "7     8\n",
      "8     9\n",
      "9     5\n",
      "10    3\n",
      "dtype: int64\n",
      "Mean of the said Data Series: 4.818181818181818\n",
      "Standard deviation of the said Data Series: 2.522624895547565\n"
     ]
    }
   ],
   "source": [
    "import pandas as pd\n",
    "s = pd.Series(data = [1,2,3,4,5,6,7,8,9,5,3])\n",
    "print(\"Original Data Series:\")\n",
    "print(s)\n",
    "print(\"Mean of the said Data Series:\",s.mean(axis=0))\n",
    "print(\"Standard deviation of the said Data Series:\",s.std(axis=0))"
   ]
  },
  {
   "cell_type": "code",
   "execution_count": null,
   "metadata": {},
   "outputs": [],
   "source": [
    "# Desired Output\n",
    "Original Data Series:\n",
    "0     1\n",
    "1     2\n",
    "2     3\n",
    "3     4\n",
    "4     5\n",
    "5     6\n",
    "6     7\n",
    "7     8\n",
    "8     9\n",
    "9     5\n",
    "10    3\n",
    "dtype: int64\n",
    "Mean of the said Data Series:\n",
    "4.81818181818\n",
    "Standard deviation of the said Data Series:\n",
    "2.52262489555"
   ]
  },
  {
   "cell_type": "code",
   "execution_count": null,
   "metadata": {},
   "outputs": [],
   "source": [
    "# 2. [5 points]: compare the elements of the two Pandas Series.\n",
    "Sample Series: [2, 4, 6, 8, 10], [1, 3, 5, 7, 10]"
   ]
  },
  {
   "cell_type": "code",
   "execution_count": 3,
   "metadata": {},
   "outputs": [
    {
     "name": "stdout",
     "output_type": "stream",
     "text": [
      "Series1:\n",
      "0     2\n",
      "1     4\n",
      "2     6\n",
      "3     8\n",
      "4    10\n",
      "dtype: int64\n",
      "Series2:\n",
      "0     1\n",
      "1     3\n",
      "2     5\n",
      "3     7\n",
      "4    10\n",
      "dtype: int64\n",
      "Compare the elements of the said Series:\n",
      "Equals:\n",
      "0    False\n",
      "1    False\n",
      "2    False\n",
      "3    False\n",
      "4     True\n",
      "dtype: bool\n",
      "Greater than:\n",
      "0     True\n",
      "1     True\n",
      "2     True\n",
      "3     True\n",
      "4    False\n",
      "dtype: bool\n",
      "Less than:\n",
      "0    False\n",
      "1    False\n",
      "2    False\n",
      "3    False\n",
      "4    False\n",
      "dtype: bool\n"
     ]
    }
   ],
   "source": [
    "series1 = pd.Series([2,4,6,8,10])\n",
    "series2 = pd.Series([1,3,5,7,10])\n",
    "print(\"Series1:\")\n",
    "print(series1)\n",
    "print(\"Series2:\")\n",
    "print(series2)\n",
    "print(\"Compare the elements of the said Series:\")\n",
    "print(\"Equals:\")\n",
    "print(series1 == series2)\n",
    "print(\"Greater than:\")\n",
    "print(series1 > series2)\n",
    "print(\"Less than:\")\n",
    "print(series1 < series2)"
   ]
  },
  {
   "cell_type": "code",
   "execution_count": null,
   "metadata": {},
   "outputs": [],
   "source": [
    "# Desired Output\n",
    "Series1:\n",
    "0     2\n",
    "1     4\n",
    "2     6\n",
    "3     8\n",
    "4    10\n",
    "dtype: int64\n",
    "Series2:\n",
    "0     1\n",
    "1     3\n",
    "2     5\n",
    "3     7\n",
    "4    10\n",
    "dtype: int64\n",
    "Compare the elements of the said Series:\n",
    "Equals:\n",
    "0    False\n",
    "1    False\n",
    "2    False\n",
    "3    False\n",
    "4     True\n",
    "dtype: bool\n",
    "Greater than:\n",
    "0     True\n",
    "1     True\n",
    "2     True\n",
    "3     True\n",
    "4    False\n",
    "dtype: bool\n",
    "Less than:\n",
    "0    False\n",
    "1    False\n",
    "2    False\n",
    "3    False\n",
    "4    False\n",
    "dtype: bool"
   ]
  },
  {
   "cell_type": "code",
   "execution_count": null,
   "metadata": {},
   "outputs": [],
   "source": [
    "# 3. [5 points]: convert a NumPy array and a dictionary to Pandas series.\n",
    "Sample NumPy array: d1 = [10, 20, 30, 40, 50]\n",
    "Sample dictionary: d1 = {'a': 100, 'b': 200, 'c':300, 'd':400, 'e':800}      "
   ]
  },
  {
   "cell_type": "code",
   "execution_count": 4,
   "metadata": {},
   "outputs": [
    {
     "name": "stdout",
     "output_type": "stream",
     "text": [
      "NumPy array:\n",
      "[10, 20, 30, 40, 50]\n",
      "Converted Pandas series:\n",
      "0    10\n",
      "1    20\n",
      "2    30\n",
      "3    40\n",
      "4    50\n",
      "dtype: int64\n",
      "Original dictionary:\n",
      "{'a': 100, 'b': 200, 'c': 300, 'd': 400, 'e': 800}\n",
      "a    100\n",
      "b    200\n",
      "c    300\n",
      "d    400\n",
      "e    800\n",
      "dtype: int64\n"
     ]
    }
   ],
   "source": [
    "d1 = [10, 20, 30, 40, 50]\n",
    "print(\"NumPy array:\")\n",
    "print(d1)\n",
    "print(\"Converted Pandas series:\")\n",
    "print(pd.Series(d1))\n",
    "d2 = {'a': 100, 'b': 200, 'c':300, 'd':400, 'e':800}  \n",
    "print(\"Original dictionary:\")\n",
    "print(d2)\n",
    "print(pd.Series(d2))"
   ]
  },
  {
   "cell_type": "code",
   "execution_count": null,
   "metadata": {},
   "outputs": [],
   "source": [
    "# Desired Output\n",
    "NumPy array:\n",
    "[10 20 30 40 50]\n",
    "Converted Pandas series:\n",
    "0    10\n",
    "1    20\n",
    "2    30\n",
    "3    40\n",
    "4    50\n",
    "dtype: int32\n",
    "Original dictionary:\n",
    "{'a': 100, 'b': 200, 'c': 300, 'd': 400, 'e': 800}\n",
    "Converted series:\n",
    "a    100\n",
    "b    200\n",
    "c    300\n",
    "d    400\n",
    "e    800\n",
    "dtype: int64"
   ]
  },
  {
   "cell_type": "code",
   "execution_count": null,
   "metadata": {},
   "outputs": [],
   "source": [
    "# 4.[5 points]: convert the first column of a DataFrame as a Series.\n",
    "Sample data:\n",
    "    col1  col2  col3\n",
    "0     1     4     7\n",
    "1     2     5     5\n",
    "2     3     6     8\n",
    "3     4     9    12\n",
    "4     7     5     1\n",
    "5    11     0    11\n"
   ]
  },
  {
   "cell_type": "code",
   "execution_count": 5,
   "metadata": {},
   "outputs": [
    {
     "name": "stdout",
     "output_type": "stream",
     "text": [
      "Original DataFrame:\n",
      "   col1  col2  col3\n",
      "0     1     4     7\n",
      "1     2     5     5\n",
      "2     3     6     8\n",
      "3     4     9    12\n",
      "4     7     5     1\n",
      "5    11     0    11\n",
      "\n",
      "1st column as a Series:\n",
      "0     1\n",
      "1     2\n",
      "2     3\n",
      "3     4\n",
      "4     7\n",
      "5    11\n",
      "Name: col1, dtype: int64\n"
     ]
    }
   ],
   "source": [
    "col1 = pd.Series([1,2,3,4,7,11])\n",
    "col2 = pd.Series([4,5,6,9,5,0])\n",
    "col3 = pd.Series([7,5,8,12,1,11])\n",
    "print(\"Original DataFrame:\")\n",
    "dataframe = pd.DataFrame({'col1':col1, 'col2':col2, 'col3':col3})\n",
    "print(dataframe)\n",
    "print()\n",
    "print(\"1st column as a Series:\")\n",
    "print(dataframe.col1)"
   ]
  },
  {
   "cell_type": "code",
   "execution_count": null,
   "metadata": {},
   "outputs": [],
   "source": [
    "# Desired Output\n",
    "Original DataFrame\n",
    "   col1  col2  col3\n",
    "0     1     4     7\n",
    "1     2     5     5\n",
    "2     3     6     8\n",
    "3     4     9    12\n",
    "4     7     5     1\n",
    "5    11     0    11\n",
    "\n",
    "1st column as a Series:\n",
    "0     1\n",
    "1     2\n",
    "2     3\n",
    "3     4\n",
    "4     7\n",
    "5    11\n",
    "Name: col1, dtype: int64\n",
    "<class 'pandas.core.series.Series'>"
   ]
  },
  {
   "cell_type": "code",
   "execution_count": null,
   "metadata": {},
   "outputs": [],
   "source": [
    "# 5. [5 points]: replace all the NaN values with Zero's in a column of a dataframe.\n",
    "Sample data:\n",
    "Original DataFrame\n",
    "attempts name qualify score\n",
    "0 1 Anastasia yes 12.5\n",
    "1 3 Dima no 9.0\n",
    "2 2 Katherine yes 16.5\n",
    "3 3 James no NaN\n",
    "4 2 Emily no 9.0\n",
    "5 3 Michael yes 20.0\n",
    "6 1 Matthew yes 14.5\n",
    "7 1 Laura no NaN\n",
    "8 2 Kevin no 8.0\n",
    "9 1 Jonas yes 19.0\n",
    "New DataFrame replacing all NaN with 0:\n",
    "attempts name qualify score\n",
    "0 1 Anastasia yes 12.5\n",
    "1 3 Dima no 9.0\n",
    "2 2 Katherine yes 16.5\n",
    "3 3 James no 0.0\n",
    "4 2 Emily no 9.0\n",
    "5 3 Michael yes 20.0\n",
    "6 1 Matthew yes 14.5\n",
    "7 1 Laura no 0.0\n",
    "8 2 Kevin no 8.0\n",
    "9 1 Jonas yes 19.0\n"
   ]
  },
  {
   "cell_type": "code",
   "execution_count": 8,
   "metadata": {},
   "outputs": [
    {
     "name": "stdout",
     "output_type": "stream",
     "text": [
      "Original DataFrame\n",
      "        name  score  attempts qualify\n",
      "0  Anastasia   12.5         1     yes\n",
      "1       Dima    9.0         3      no\n",
      "2  Katherine   16.5         2     yes\n",
      "3      James    NaN         3      no\n",
      "4      Emily    9.0         2      no\n",
      "5    Michael   20.0         3     yes\n",
      "6    Matthew   14.5         1     yes\n",
      "7      Laura    NaN         1      no\n",
      "8      Kevin    8.0         2      no\n",
      "9      Jonas   19.0         1     yes\n",
      "\n",
      "New DataFrame replacing all NaN with 0:\n",
      "        name  score  attempts qualify\n",
      "0  Anastasia   12.5         1     yes\n",
      "1       Dima    9.0         3      no\n",
      "2  Katherine   16.5         2     yes\n",
      "3      James    0.0         3      no\n",
      "4      Emily    9.0         2      no\n",
      "5    Michael   20.0         3     yes\n",
      "6    Matthew   14.5         1     yes\n",
      "7      Laura    0.0         1      no\n",
      "8      Kevin    8.0         2      no\n",
      "9      Jonas   19.0         1     yes\n"
     ]
    }
   ],
   "source": [
    "name = pd.Series(['Anastasia','Dima','Katherine','James','Emily','Michael','Matthew','Laura','Kevin','Jonas'])\n",
    "score = pd.Series([12.5,9.0,16.5,np.nan,9.0,20.0,14.5,np.nan,8.0,19.0])\n",
    "attempts = pd.Series([1,3,2,3,2,3,1,1,2,1])\n",
    "qualify = pd.Series(['yes','no','yes','no','no','yes','yes','no','no','yes'])\n",
    "dataframe = pd.DataFrame({'name':name, 'score':score, 'attempts':attempts, 'qualify':qualify})\n",
    "print(\"Original DataFrame\")\n",
    "print(dataframe)\n",
    "print()\n",
    "print(\"New DataFrame replacing all NaN with 0:\")\n",
    "print(dataframe.fillna(0))"
   ]
  },
  {
   "cell_type": "code",
   "execution_count": null,
   "metadata": {},
   "outputs": [],
   "source": [
    "# Desired Output\n",
    "Original DataFrame\n",
    "        name  score  attempts qualify\n",
    "0  Anastasia   12.5         1     yes\n",
    "1       Dima    9.0         3      no\n",
    "2  Katherine   16.5         2     yes\n",
    "3      James    NaN         3      no\n",
    "4      Emily    9.0         2      no\n",
    "5    Michael   20.0         3     yes\n",
    "6    Matthew   14.5         1     yes\n",
    "7      Laura    NaN         1      no\n",
    "8      Kevin    8.0         2      no\n",
    "9      Jonas   19.0         1     yes\n",
    "\n",
    "New DataFrame replacing all NaN with 0:\n",
    "        name  score  attempts qualify\n",
    "0  Anastasia   12.5         1     yes\n",
    "1       Dima    9.0         3      no\n",
    "2  Katherine   16.5         2     yes\n",
    "3      James    0.0         3      no\n",
    "4      Emily    9.0         2      no\n",
    "5    Michael   20.0         3     yes\n",
    "6    Matthew   14.5         1     yes\n",
    "7      Laura    0.0         1      no\n",
    "8      Kevin    8.0         2      no\n",
    "9      Jonas   19.0         1     yes"
   ]
  },
  {
   "cell_type": "code",
   "execution_count": null,
   "metadata": {},
   "outputs": [],
   "source": [
    "# 6. [5 points]: sort a given Series; add some data ['500', 'php'] to an existing Series;\n",
    "Original Data Series:\n",
    "0       100\n",
    "1       200\n",
    "2    python\n",
    "3    300.12\n",
    "4       400"
   ]
  },
  {
   "cell_type": "code",
   "execution_count": 9,
   "metadata": {},
   "outputs": [
    {
     "name": "stdout",
     "output_type": "stream",
     "text": [
      "Original Data Series:\n",
      "0       100\n",
      "1       200\n",
      "2    python\n",
      "3    300.12\n",
      "4       400\n",
      "dtype: object\n",
      "0       100\n",
      "1       200\n",
      "3    300.12\n",
      "4       400\n",
      "2    python\n",
      "dtype: object\n",
      "Data Series after adding some data:\n",
      "0       100\n",
      "1       200\n",
      "2    python\n",
      "3    300.12\n",
      "4       400\n",
      "0       500\n",
      "1       php\n",
      "dtype: object\n"
     ]
    }
   ],
   "source": [
    "col1 = pd.Series(['100','200','python','300.12','400'])\n",
    "print(\"Original Data Series:\")\n",
    "print(col1)\n",
    "print(col1.sort_values())\n",
    "print(\"Data Series after adding some data:\")\n",
    "print(col1.append(pd.Series(['500','php'])))"
   ]
  },
  {
   "cell_type": "code",
   "execution_count": null,
   "metadata": {},
   "outputs": [],
   "source": [
    "# Desired Output\n",
    "Original Data Series:\n",
    "0       100\n",
    "1       200\n",
    "2    python\n",
    "3    300.12\n",
    "4       400\n",
    "dtype: object\n",
    "0       100\n",
    "1       200\n",
    "3    300.12\n",
    "4       400\n",
    "2    python\n",
    "dtype: object\n",
    "\n",
    "Data Series after adding some data:\n",
    "0       100\n",
    "1       200\n",
    "2    python\n",
    "3    300.12\n",
    "4       400\n",
    "0       500\n",
    "1       php\n",
    "dtype: object"
   ]
  },
  {
   "cell_type": "code",
   "execution_count": null,
   "metadata": {},
   "outputs": [],
   "source": [
    "# 7. [10 points]: count number of columns of the DataFrame; select all columns, except one given column 'col3'; \n",
    "# remove first 3 rows of the DataFrame; remove last 3 rows of the DataFrame;\n",
    "Sample Data:\n",
    "    col1  col2  col3\n",
    "0     1     4     7\n",
    "1     2     5     5\n",
    "2     3     6     8\n",
    "3     4     9    12\n",
    "4     7     5     1\n",
    "5    11     0    11   "
   ]
  },
  {
   "cell_type": "code",
   "execution_count": 10,
   "metadata": {},
   "outputs": [
    {
     "name": "stdout",
     "output_type": "stream",
     "text": [
      "Original DataFrame:\n",
      "   col1  col2  col3\n",
      "0     1     4     7\n",
      "1     2     5     5\n",
      "2     3     6     8\n",
      "3     4     9    12\n",
      "4     7     5     1\n",
      "5    11     0    11\n",
      "Number of columns:\n",
      "3\n",
      "All columns except 'col3':\n",
      "   col1  col2\n",
      "0     1     4\n",
      "1     2     5\n",
      "2     3     6\n",
      "3     4     9\n",
      "4     7     5\n",
      "5    11     0\n",
      "After removing first 3 rows of the DataFrame:\n",
      "   col1  col2  col3\n",
      "3     4     9    12\n",
      "4     7     5     1\n",
      "5    11     0    11\n",
      "After removing last 3 rows of the DataFrame:\n",
      "   col1  col2  col3\n",
      "0     1     4     7\n",
      "1     2     5     5\n",
      "2     3     6     8\n"
     ]
    }
   ],
   "source": [
    "col1 = pd.Series([1,2,3,4,7,11])\n",
    "col2 = pd.Series([4,5,6,9,5,0])\n",
    "col3 = pd.Series([7,5,8,12,1,11])\n",
    "print(\"Original DataFrame:\")\n",
    "dataframe = pd.DataFrame({'col1':col1, 'col2':col2, 'col3':col3})\n",
    "print(dataframe)\n",
    "print(\"Number of columns:\")\n",
    "print(dataframe.shape[1])\n",
    "print(\"All columns except 'col3':\")\n",
    "print(dataframe.iloc[:,:2])\n",
    "print(\"After removing first 3 rows of the DataFrame:\")\n",
    "print(dataframe.iloc[3:])\n",
    "print(\"After removing last 3 rows of the DataFrame:\")\n",
    "print(dataframe.iloc[:3])"
   ]
  },
  {
   "cell_type": "code",
   "execution_count": null,
   "metadata": {},
   "outputs": [],
   "source": [
    "# Desired Output:\n",
    "Original DataFrame\n",
    "   col1  col2  col3\n",
    "0     1     4     7\n",
    "1     2     5     5\n",
    "2     3     6     8\n",
    "3     4     9    12\n",
    "4     7     5     1\n",
    "5    11     0    11\n",
    "\n",
    "Number of columns:\n",
    "3\n",
    "\n",
    "All columns except 'col3':\n",
    "   col1  col2\n",
    "0     1     4\n",
    "1     2     5\n",
    "2     3     6\n",
    "3     4     9\n",
    "4     7     5\n",
    "5    11     0\n",
    "\n",
    "After removing first 3 rows of the DataFrame:\n",
    "   col1  col2  col3\n",
    "3     4     9    12\n",
    "4     7     5     1\n",
    "5    11     0    11\n",
    "\n",
    "After removing last 3 rows of the DataFrame:\n",
    "   col1  col2  col3\n",
    "0     1     4     7\n",
    "1     2     5     5\n",
    "2     3     6     8"
   ]
  },
  {
   "cell_type": "code",
   "execution_count": null,
   "metadata": {},
   "outputs": [],
   "source": [
    "# 8. [10 points]: \n",
    "1.read data from movies.csv file to Pandas\n",
    "2. get the information of the DataFrame (movies.csv file) including data types and memory usage.\n",
    "3. count the number of rows and columns of the DataFrame \n",
    "4. get the details of fifth movie of the DataFrame.\n",
    "5. nudisplay the movies (title, runtime)longer than 30 minutes and shorter than 360 mites."
   ]
  },
  {
   "cell_type": "code",
   "execution_count": 11,
   "metadata": {},
   "outputs": [
    {
     "name": "stdout",
     "output_type": "stream",
     "text": [
      "adult                       bool\n",
      "belongs_to_collection     object\n",
      "budget                     int64\n",
      "genres                    object\n",
      "homepage                  object\n",
      "id                         int64\n",
      "imdb_id                   object\n",
      "original_language         object\n",
      "original_title            object\n",
      "overview                  object\n",
      "popularity               float64\n",
      "poster_path               object\n",
      "production_companies      object\n",
      "production_countries      object\n",
      "release_date              object\n",
      "revenue                    int64\n",
      "runtime                  float64\n",
      "spoken_languages          object\n",
      "status                    object\n",
      "tagline                   object\n",
      "title                     object\n",
      "video                       bool\n",
      "vote_average             float64\n",
      "vote_count                 int64\n",
      "dtype: object\n",
      "Index                     80\n",
      "adult                     50\n",
      "belongs_to_collection    400\n",
      "budget                   400\n",
      "genres                   400\n",
      "homepage                 400\n",
      "id                       400\n",
      "imdb_id                  400\n",
      "original_language        400\n",
      "original_title           400\n",
      "overview                 400\n",
      "popularity               400\n",
      "poster_path              400\n",
      "production_companies     400\n",
      "production_countries     400\n",
      "release_date             400\n",
      "revenue                  400\n",
      "runtime                  400\n",
      "spoken_languages         400\n",
      "status                   400\n",
      "tagline                  400\n",
      "title                    400\n",
      "video                     50\n",
      "vote_average             400\n",
      "vote_count               400\n",
      "dtype: int64\n",
      "the number of rows: 50\n",
      "the number of cols: 24\n",
      "adult                                                                False\n",
      "belongs_to_collection    {'id': 96871, 'name': 'Father of the Bride Col...\n",
      "budget                                                                   0\n",
      "genres                                      [{'id': 35, 'name': 'Comedy'}]\n",
      "homepage                                                               NaN\n",
      "id                                                                   11862\n",
      "imdb_id                                                          tt0113041\n",
      "original_language                                                       en\n",
      "original_title                                 Father of the Bride Part II\n",
      "overview                 Just when George Banks has recovered from his ...\n",
      "popularity                                                         8.38752\n",
      "poster_path                               /e64sOI48hQXyru7naBFyssKFxVd.jpg\n",
      "production_companies     [{'name': 'Sandollar Productions', 'id': 5842}...\n",
      "production_countries     [{'iso_3166_1': 'US', 'name': 'United States o...\n",
      "release_date                                                    1995-02-10\n",
      "revenue                                                           76578911\n",
      "runtime                                                                106\n",
      "spoken_languages                  [{'iso_639_1': 'en', 'name': 'English'}]\n",
      "status                                                            Released\n",
      "tagline                  Just When His World Is Back To Normal... He's ...\n",
      "title                                          Father of the Bride Part II\n",
      "video                                                                False\n",
      "vote_average                                                           5.7\n",
      "vote_count                                                             173\n",
      "Name: 4, dtype: object\n",
      "                             title  runtime\n",
      "0                        Toy Story     81.0\n",
      "1                          Jumanji    104.0\n",
      "2                 Grumpier Old Men    101.0\n",
      "3                Waiting to Exhale    127.0\n",
      "4      Father of the Bride Part II    106.0\n",
      "5                             Heat    170.0\n",
      "6                          Sabrina    127.0\n",
      "7                     Tom and Huck     97.0\n",
      "8                     Sudden Death    106.0\n",
      "9                        GoldenEye    130.0\n",
      "10          The American President    106.0\n",
      "11     Dracula: Dead and Loving It     88.0\n",
      "12                           Balto     78.0\n",
      "13                           Nixon    192.0\n",
      "14                Cutthroat Island    119.0\n",
      "15                          Casino    178.0\n",
      "16           Sense and Sensibility    136.0\n",
      "17                      Four Rooms     98.0\n",
      "18  Ace Ventura: When Nature Calls     90.0\n",
      "19                     Money Train    103.0\n",
      "20                      Get Shorty    105.0\n",
      "21                         Copycat    124.0\n",
      "22                       Assassins    132.0\n",
      "23                          Powder    111.0\n",
      "24               Leaving Las Vegas    112.0\n",
      "25                         Othello    123.0\n",
      "26                    Now and Then    100.0\n",
      "27                      Persuasion    104.0\n",
      "28       The City of Lost Children    108.0\n",
      "29                  Shanghai Triad    108.0\n",
      "30                 Dangerous Minds     99.0\n",
      "31                  Twelve Monkeys    129.0\n",
      "32                Wings of Courage     50.0\n",
      "33                            Babe     89.0\n",
      "34                      Carrington    121.0\n",
      "35                Dead Man Walking    122.0\n",
      "36          Across the Sea of Time     51.0\n",
      "37                    It Takes Two    101.0\n",
      "38                        Clueless     97.0\n",
      "39        Cry, the Beloved Country    106.0\n",
      "40                     Richard III    104.0\n",
      "41                 Dead Presidents    119.0\n",
      "42                     Restoration    117.0\n",
      "43                   Mortal Kombat    101.0\n",
      "44                      To Die For    106.0\n",
      "45   How To Make An American Quilt    116.0\n",
      "46                           Se7en    127.0\n",
      "47                      Pocahontas     81.0\n",
      "48           When Night Is Falling     96.0\n",
      "49              The Usual Suspects    106.0\n"
     ]
    }
   ],
   "source": [
    "import pandas as pd\n",
    "data = pd.read_csv('movies.csv')\n",
    "print(data.dtypes)\n",
    "print(data.memory_usage())\n",
    "print(\"the number of rows:\", data.shape[0])\n",
    "print(\"the number of cols:\", data.shape[1])\n",
    "print(data.iloc[4])\n",
    "print(data.loc[(data['runtime']>30)&(data['runtime']<360),['title','runtime']])"
   ]
  },
  {
   "cell_type": "code",
   "execution_count": 198,
   "metadata": {},
   "outputs": [],
   "source": [
    "# Matplotlib: 4 questions, total 20 points."
   ]
  },
  {
   "cell_type": "code",
   "execution_count": 238,
   "metadata": {},
   "outputs": [],
   "source": [
    "# 1. [5 points]: plot several lines with different format styles in one command using arrays.\n",
    "# Sampled time at 200ms intervals\n",
    "t = np.arange(0., 5., 0.2)\n",
    "# green dashes, blue squares and red triangles to plot t, t**2, t**3."
   ]
  },
  {
   "cell_type": "code",
   "execution_count": 13,
   "metadata": {},
   "outputs": [
    {
     "data": {
      "image/png": "[encoded data removed]",
      "text/plain": [
       "<Figure size 432x288 with 1 Axes>"
      ]
     },
     "metadata": {
      "needs_background": "light"
     },
     "output_type": "display_data"
    }
   ],
   "source": [
    "import numpy as np\n",
    "import matplotlib as mpl\n",
    "import matplotlib.pyplot as plt\n",
    "\n",
    "t = np.arange(0., 5., 0.2)\n",
    "plt.plot(t,t,'g--',t,t**2,'bs',t,t**3,'r^')\n",
    "plt.show()"
   ]
  },
  {
   "cell_type": "code",
   "execution_count": 18,
   "metadata": {},
   "outputs": [],
   "source": [
    "# 2. [5 points]: plot two or more lines with different styles\n",
    "# line 1 points\n",
    "x1 = [10,20,30]\n",
    "y1 = [20,40,10]\n",
    "# line 2 points\n",
    "x2 = [10,20,30]\n",
    "y2 = [40,10,30]\n",
    "# Set the x and y axes labels as 'x' and 'y';\n",
    "# Plot lines and/or markers to the Axes: blue,red; dotted, dashed;\n",
    "# Set a title: \"Plot with two or more lines with different styles\";\n",
    "# show a legend on the plot as 'line1-dotted', 'line2-dashed'."
   ]
  },
  {
   "cell_type": "code",
   "execution_count": 14,
   "metadata": {},
   "outputs": [
    {
     "data": {
      "image/png": "[encoded data removed]",
      "text/plain": [
       "<Figure size 432x288 with 1 Axes>"
      ]
     },
     "metadata": {
      "needs_background": "light"
     },
     "output_type": "display_data"
    }
   ],
   "source": [
    "x1 = [10,20,30]\n",
    "y1 = [20,40,10]\n",
    "x2 = [10,20,30]\n",
    "y2 = [40,10,30]\n",
    "plt.xlabel('X')\n",
    "plt.ylabel('Y')\n",
    "\n",
    "plt.plot(x1,y1,color='blue',linewidth=5,label='line1-dotted',linestyle='dotted')\n",
    "plt.plot(x2,y2,color='red',linewidth=3,label='line2-dotted',linestyle='dashed')\n",
    "plt.title('Plot with two or more lines with different styles')\n",
    "plt.legend()\n",
    "plt.show()\n"
   ]
  },
  {
   "cell_type": "code",
   "execution_count": null,
   "metadata": {},
   "outputs": [],
   "source": [
    "# 3. [5 points]: draw a scatter plot with empty circles taking a 50-point random distribution in X and Y \n",
    "#  any color for face and edge, and plotted against each other."
   ]
  },
  {
   "cell_type": "code",
   "execution_count": 15,
   "metadata": {},
   "outputs": [
    {
     "data": {
      "image/png": "[encoded data removed]",
      "text/plain": [
       "<Figure size 432x288 with 1 Axes>"
      ]
     },
     "metadata": {
      "needs_background": "light"
     },
     "output_type": "display_data"
    }
   ],
   "source": [
    "x = np.random.randn(50)\n",
    "y = np.random.randn(50)\n",
    "plt.scatter(x,y,s=70, facecolors='pink', edgecolors='blue')\n",
    "plt.xlabel('X')\n",
    "plt.ylabel('Y')\n",
    "plt.show()"
   ]
  },
  {
   "cell_type": "code",
   "execution_count": null,
   "metadata": {},
   "outputs": [],
   "source": [
    "# 4. [5 points]:  create bar plot from a DataFrame.\n",
    "Sample Data Frame:\n",
    "  a b c d e \n",
    "2 4,8,5,7,6\n",
    "4 2,3,4,2,6\n",
    "6 4,7,4,7,8\n",
    "8 2,6,4,8,6\n",
    "10 2,4,3,3,2"
   ]
  },
  {
   "cell_type": "code",
   "execution_count": 16,
   "metadata": {},
   "outputs": [
    {
     "data": {
      "image/png": "[encoded data removed]",
      "text/plain": [
       "<Figure size 432x288 with 1 Axes>"
      ]
     },
     "metadata": {
      "needs_background": "light"
     },
     "output_type": "display_data"
    }
   ],
   "source": [
    "from pandas import DataFrame \n",
    "import matplotlib.pyplot as plt\n",
    "import numpy as np\n",
    "\n",
    "a=np.array([[4,8,5,7,6],[2,3,4,2,6],[4,7,4,7,8],[2,6,4,8,6],[2,4,3,3,2]])\n",
    "df=DataFrame(a, columns=['a','b','c','d','e'], index=[2,4,6,8,10])\n",
    "\n",
    "\n",
    "#Turn on the grid\n",
    "df.plot(kind='bar')\n",
    "plt.minorticks_on()\n",
    "plt.grid(which='major', linestyle='-', linewidth='0.4', color='blue')\n",
    "plt.grid(which='minor', linestyle='-', linewidth='0.4', color='green')\n",
    "plt.show()"
   ]
  },
  {
   "cell_type": "code",
   "execution_count": null,
   "metadata": {},
   "outputs": [],
   "source": []
  }
 ],
 "metadata": {
  "kernelspec": {
   "display_name": "Python 3",
   "language": "python",
   "name": "python3"
  },
  "language_info": {
   "codemirror_mode": {
    "name": "ipython",
    "version": 3
   },
   "file_extension": ".py",
   "mimetype": "text/x-python",
   "name": "python",
   "nbconvert_exporter": "python",
   "pygments_lexer": "ipython3",
   "version": "3.7.1"
  }
 },
 "nbformat": 4,
 "nbformat_minor": 2
}
